{
 "cells": [
  {
   "cell_type": "code",
   "execution_count": 1,
   "id": "62184ce2",
   "metadata": {},
   "outputs": [
    {
     "data": {
      "text/plain": [
       "'2.1.3'"
      ]
     },
     "execution_count": 1,
     "metadata": {},
     "output_type": "execute_result"
    }
   ],
   "source": [
    "import tensorflow as tf\n",
    "import numpy as np\n",
    "import boto3\n",
    "import sagemaker\n",
    "import requests\n",
    "import io\n",
    "\n",
    "tf.__version__"
   ]
  },
  {
   "cell_type": "code",
   "execution_count": 2,
   "id": "5ae3f778",
   "metadata": {},
   "outputs": [],
   "source": [
    "# bucket = 'tf-numpy-dataset'\n",
    "# key='dataset.npz'\n",
    "# s3 = boto3.resource('s3')\n",
    "# obj = s3.Object(bucket, key)\n",
    "# with io.BytesIO(obj.get()[\"Body\"].read()) as f:\n",
    "#     f.seek(0)  # rewind the file\n",
    "#     dataset = np.load(f)"
   ]
  },
  {
   "cell_type": "code",
   "execution_count": 3,
   "id": "597c003f",
   "metadata": {},
   "outputs": [],
   "source": [
    "training_data_path = 's3://tf-numpy-dataset/dataset.npz'"
   ]
  },
  {
   "cell_type": "code",
   "execution_count": 4,
   "id": "3addf86a",
   "metadata": {},
   "outputs": [
    {
     "data": {
      "text/plain": [
       "'arn:aws:iam::971142191925:role/service-role/AmazonSageMaker-ExecutionRole-20220306T200405'"
      ]
     },
     "execution_count": 4,
     "metadata": {},
     "output_type": "execute_result"
    }
   ],
   "source": [
    "role = sagemaker.get_execution_role()\n",
    "role"
   ]
  },
  {
   "cell_type": "code",
   "execution_count": 5,
   "id": "d54b66d3",
   "metadata": {},
   "outputs": [
    {
     "data": {
      "text/plain": [
       "'2.1.3'"
      ]
     },
     "execution_count": 5,
     "metadata": {},
     "output_type": "execute_result"
    }
   ],
   "source": [
    "tf_version = tf.__version__\n",
    "tf_version"
   ]
  },
  {
   "cell_type": "code",
   "execution_count": 6,
   "id": "d0678639",
   "metadata": {},
   "outputs": [],
   "source": [
    "from sagemaker.tensorflow import TensorFlow\n",
    "\n",
    "tf_estimator = TensorFlow(entry_point='train.py', \n",
    "                          role=role,\n",
    "                          instance_count=1, \n",
    "                          instance_type='ml.m5.2xlarge',\n",
    "#                           instance_type='ml.p2.xlarge',\n",
    "                          framework_version=tf_version, \n",
    "                          py_version='py3',\n",
    "                          script_mode=True,\n",
    "                          hyperparameters={\n",
    "#                               'epochs': 30\n",
    "                          }\n",
    "                         )"
   ]
  },
  {
   "cell_type": "code",
   "execution_count": 7,
   "id": "574b7ce4",
   "metadata": {},
   "outputs": [
    {
     "name": "stdout",
     "output_type": "stream",
     "text": [
      "2022-03-13 16:08:13 Starting - Starting the training job...\n",
      "2022-03-13 16:08:30 Starting - Preparing the instances for trainingProfilerReport-1647187693: InProgress\n",
      "......\n",
      "2022-03-13 16:09:33 Downloading - Downloading input data...\n",
      "2022-03-13 16:10:06 Training - Downloading the training image..\u001b[34m2022-03-13 16:10:25,054 sagemaker-training-toolkit INFO     Imported framework sagemaker_tensorflow_container.training\u001b[0m\n",
      "\u001b[34m2022-03-13 16:10:25,063 sagemaker-training-toolkit INFO     No GPUs detected (normal if no gpus installed)\u001b[0m\n",
      "\u001b[34m2022-03-13 16:10:25,563 sagemaker-training-toolkit INFO     No GPUs detected (normal if no gpus installed)\u001b[0m\n",
      "\u001b[34m2022-03-13 16:10:25,584 sagemaker-training-toolkit INFO     No GPUs detected (normal if no gpus installed)\u001b[0m\n",
      "\u001b[34m2022-03-13 16:10:25,613 sagemaker-training-toolkit INFO     No GPUs detected (normal if no gpus installed)\u001b[0m\n",
      "\u001b[34m2022-03-13 16:10:25,632 sagemaker-training-toolkit INFO     Invoking user script\u001b[0m\n",
      "\u001b[34mTraining Env:\u001b[0m\n",
      "\u001b[34m{\n",
      "    \"additional_framework_parameters\": {},\n",
      "    \"channel_input_dirs\": {\n",
      "        \"train\": \"/opt/ml/input/data/train\"\n",
      "    },\n",
      "    \"current_host\": \"algo-1\",\n",
      "    \"framework_module\": \"sagemaker_tensorflow_container.training:main\",\n",
      "    \"hosts\": [\n",
      "        \"algo-1\"\n",
      "    ],\n",
      "    \"hyperparameters\": {\n",
      "        \"model_dir\": \"s3://sagemaker-us-east-1-971142191925/tensorflow-training-2022-03-13-16-08-12-982/model\"\n",
      "    },\n",
      "    \"input_config_dir\": \"/opt/ml/input/config\",\n",
      "    \"input_data_config\": {\n",
      "        \"train\": {\n",
      "            \"TrainingInputMode\": \"File\",\n",
      "            \"S3DistributionType\": \"FullyReplicated\",\n",
      "            \"RecordWrapperType\": \"None\"\n",
      "        }\n",
      "    },\n",
      "    \"input_dir\": \"/opt/ml/input\",\n",
      "    \"is_master\": true,\n",
      "    \"job_name\": \"tensorflow-training-2022-03-13-16-08-12-982\",\n",
      "    \"log_level\": 20,\n",
      "    \"master_hostname\": \"algo-1\",\n",
      "    \"model_dir\": \"/opt/ml/model\",\n",
      "    \"module_dir\": \"s3://sagemaker-us-east-1-971142191925/tensorflow-training-2022-03-13-16-08-12-982/source/sourcedir.tar.gz\",\n",
      "    \"module_name\": \"train\",\n",
      "    \"network_interface_name\": \"eth0\",\n",
      "    \"num_cpus\": 4,\n",
      "    \"num_gpus\": 0,\n",
      "    \"output_data_dir\": \"/opt/ml/output/data\",\n",
      "    \"output_dir\": \"/opt/ml/output\",\n",
      "    \"output_intermediate_dir\": \"/opt/ml/output/intermediate\",\n",
      "    \"resource_config\": {\n",
      "        \"current_host\": \"algo-1\",\n",
      "        \"current_instance_type\": \"ml.m5.xlarge\",\n",
      "        \"current_group_name\": \"homogeneousCluster\",\n",
      "        \"hosts\": [\n",
      "            \"algo-1\"\n",
      "        ],\n",
      "        \"instance_groups\": [\n",
      "            {\n",
      "                \"instance_group_name\": \"homogeneousCluster\",\n",
      "                \"instance_type\": \"ml.m5.xlarge\",\n",
      "                \"hosts\": [\n",
      "                    \"algo-1\"\n",
      "                ]\n",
      "            }\n",
      "        ],\n",
      "        \"network_interface_name\": \"eth0\"\n",
      "    },\n",
      "    \"user_entry_point\": \"train.py\"\u001b[0m\n",
      "\u001b[34m}\u001b[0m\n",
      "\u001b[34mInvoking script with the following command:\u001b[0m\n",
      "\u001b[34m/usr/local/bin/python3.6 train.py --model_dir s3://sagemaker-us-east-1-971142191925/tensorflow-training-2022-03-13-16-08-12-982/model\u001b[0m\n",
      "\n",
      "2022-03-13 16:10:26 Training - Training image download completed. Training in progress.\u001b[34mUpdate interval 140\u001b[0m\n",
      "\u001b[34mSave interval 163\u001b[0m\n",
      "\u001b[34m...pretraining CAE using default hyper-parameters:\n",
      "   optimizer='adam';   epochs=200\u001b[0m\n",
      "\u001b[34m...Pretraining...\u001b[0m\n",
      "\u001b[34mEpoch 1/1\u001b[0m\n",
      "\u001b[34m 256/8355 [..............................] - ETA: 5:12 - loss: 16990.2910\u001b[0m\n",
      "\u001b[34m 512/8355 [>.............................] - ETA: 4:28 - loss: 17221.2373\u001b[0m\n",
      "\u001b[34m 768/8355 [=>............................] - ETA: 4:07 - loss: 16540.2822\u001b[0m\n",
      "\u001b[34m1024/8355 [==>...........................] - ETA: 3:59 - loss: 13975.6643\u001b[0m\n",
      "\u001b[34m1280/8355 [===>..........................] - ETA: 3:48 - loss: 38618.4689\u001b[0m\n",
      "\u001b[34m1536/8355 [====>.........................] - ETA: 3:38 - loss: 32939.6189\u001b[0m\n",
      "\u001b[34m1792/8355 [=====>........................] - ETA: 3:28 - loss: 29611.8301\u001b[0m\n",
      "\u001b[34m2048/8355 [======>.......................] - ETA: 3:19 - loss: 27875.9222\u001b[0m\n",
      "\u001b[34m2304/8355 [=======>......................] - ETA: 3:09 - loss: 26681.5406\u001b[0m\n",
      "\u001b[34m2560/8355 [========>.....................] - ETA: 3:00 - loss: 25655.1323\u001b[0m\n",
      "\u001b[34m2816/8355 [=========>....................] - ETA: 2:53 - loss: 24927.1075\u001b[0m\n",
      "\u001b[34m3072/8355 [==========>...................] - ETA: 2:45 - loss: 24152.9539\u001b[0m\n",
      "\u001b[34m3328/8355 [==========>...................] - ETA: 2:37 - loss: 23629.4819\u001b[0m\n",
      "\u001b[34m3584/8355 [===========>..................] - ETA: 2:28 - loss: 23119.5270\u001b[0m\n",
      "\u001b[34m3840/8355 [============>.................] - ETA: 2:20 - loss: 22704.9729\u001b[0m\n",
      "\u001b[34m4096/8355 [=============>................] - ETA: 2:12 - loss: 22309.9238\u001b[0m\n",
      "\u001b[34m4352/8355 [==============>...............] - ETA: 2:03 - loss: 22084.9073\u001b[0m\n",
      "\u001b[34m4608/8355 [===============>..............] - ETA: 1:55 - loss: 21773.3304\u001b[0m\n",
      "\u001b[34m4864/8355 [================>.............] - ETA: 1:47 - loss: 21495.8669\u001b[0m\n",
      "\u001b[34m5120/8355 [=================>............] - ETA: 1:40 - loss: 21259.3940\u001b[0m\n",
      "\u001b[34m5376/8355 [==================>...........] - ETA: 1:32 - loss: 21028.6164\u001b[0m\n"
     ]
    },
    {
     "name": "stdout",
     "output_type": "stream",
     "text": [
      "\u001b[34m5632/8355 [===================>..........] - ETA: 1:24 - loss: 20781.1208\u001b[0m\n",
      "\u001b[34m5888/8355 [====================>.........] - ETA: 1:16 - loss: 20594.9149\u001b[0m\n",
      "\u001b[34m6144/8355 [=====================>........] - ETA: 1:08 - loss: 20424.1788\u001b[0m\n",
      "\u001b[34m6400/8355 [=====================>........] - ETA: 1:00 - loss: 20264.2348\u001b[0m\n",
      "\u001b[34m6656/8355 [======================>.......] - ETA: 52s - loss: 20111.5656 \u001b[0m\n",
      "\u001b[34m6912/8355 [=======================>......] - ETA: 44s - loss: 19959.3470\u001b[0m\n",
      "\u001b[34m7168/8355 [========================>.....] - ETA: 36s - loss: 19807.9824\u001b[0m\n",
      "\u001b[34m7424/8355 [=========================>....] - ETA: 28s - loss: 19696.1043\u001b[0m\n",
      "\u001b[34m7680/8355 [==========================>...] - ETA: 20s - loss: 19605.0686\u001b[0m\n",
      "\u001b[34m7936/8355 [===========================>..] - ETA: 12s - loss: 19472.4608\u001b[0m\n",
      "\u001b[34m8192/8355 [============================>.] - ETA: 5s - loss: 19342.5676 \u001b[0m\n",
      "\u001b[34m8355/8355 [==============================] - 257s 31ms/step - loss: 19258.7154\u001b[0m\n",
      "\u001b[34mPretraining time:  257.96817445755005\u001b[0m\n",
      "\u001b[34mPretrained weights are saved to /opt/ml/model/pretrain_cae_model.h5\u001b[0m\n",
      "\u001b[34mInitializing cluster centers with k-means.\u001b[0m\n",
      "\u001b[34msaving model to: /opt/ml/model/dcec_model_0.h5\u001b[0m\n",
      "\u001b[34mite: 1\u001b[0m\n",
      "\u001b[34mite: 2\u001b[0m\n",
      "\u001b[34mite: 3\u001b[0m\n",
      "\u001b[34mite: 4\u001b[0m\n",
      "\u001b[34mite: 5\u001b[0m\n",
      "\u001b[34mite: 6\u001b[0m\n",
      "\u001b[34mite: 7\u001b[0m\n",
      "\u001b[34mite: 8\u001b[0m\n",
      "\u001b[34mite: 9\u001b[0m\n",
      "\u001b[34mite: 10\u001b[0m\n",
      "\u001b[34mite: 11\u001b[0m\n",
      "\u001b[34mite: 12\u001b[0m\n",
      "\u001b[34mite: 13\u001b[0m\n",
      "\u001b[34mite: 14\u001b[0m\n",
      "\u001b[34mite: 15\u001b[0m\n",
      "\u001b[34mite: 16\u001b[0m\n"
     ]
    },
    {
     "ename": "KeyboardInterrupt",
     "evalue": "",
     "output_type": "error",
     "traceback": [
      "\u001b[0;31m---------------------------------------------------------------------------\u001b[0m",
      "\u001b[0;31mKeyboardInterrupt\u001b[0m                         Traceback (most recent call last)",
      "\u001b[0;32m<ipython-input-7-47317d9d63cf>\u001b[0m in \u001b[0;36m<module>\u001b[0;34m\u001b[0m\n\u001b[0;32m----> 1\u001b[0;31m \u001b[0mtf_estimator\u001b[0m\u001b[0;34m.\u001b[0m\u001b[0mfit\u001b[0m\u001b[0;34m(\u001b[0m\u001b[0;34m{\u001b[0m\u001b[0;34m'train'\u001b[0m\u001b[0;34m:\u001b[0m \u001b[0mtraining_data_path\u001b[0m\u001b[0;34m}\u001b[0m\u001b[0;34m)\u001b[0m\u001b[0;34m\u001b[0m\u001b[0;34m\u001b[0m\u001b[0m\n\u001b[0m",
      "\u001b[0;32m~/anaconda3/envs/tensorflow2_p36/lib/python3.6/site-packages/sagemaker/estimator.py\u001b[0m in \u001b[0;36mfit\u001b[0;34m(self, inputs, wait, logs, job_name, experiment_config)\u001b[0m\n\u001b[1;32m    690\u001b[0m         \u001b[0mself\u001b[0m\u001b[0;34m.\u001b[0m\u001b[0mjobs\u001b[0m\u001b[0;34m.\u001b[0m\u001b[0mappend\u001b[0m\u001b[0;34m(\u001b[0m\u001b[0mself\u001b[0m\u001b[0;34m.\u001b[0m\u001b[0mlatest_training_job\u001b[0m\u001b[0;34m)\u001b[0m\u001b[0;34m\u001b[0m\u001b[0;34m\u001b[0m\u001b[0m\n\u001b[1;32m    691\u001b[0m         \u001b[0;32mif\u001b[0m \u001b[0mwait\u001b[0m\u001b[0;34m:\u001b[0m\u001b[0;34m\u001b[0m\u001b[0;34m\u001b[0m\u001b[0m\n\u001b[0;32m--> 692\u001b[0;31m             \u001b[0mself\u001b[0m\u001b[0;34m.\u001b[0m\u001b[0mlatest_training_job\u001b[0m\u001b[0;34m.\u001b[0m\u001b[0mwait\u001b[0m\u001b[0;34m(\u001b[0m\u001b[0mlogs\u001b[0m\u001b[0;34m=\u001b[0m\u001b[0mlogs\u001b[0m\u001b[0;34m)\u001b[0m\u001b[0;34m\u001b[0m\u001b[0;34m\u001b[0m\u001b[0m\n\u001b[0m\u001b[1;32m    693\u001b[0m \u001b[0;34m\u001b[0m\u001b[0m\n\u001b[1;32m    694\u001b[0m     \u001b[0;32mdef\u001b[0m \u001b[0m_compilation_job_name\u001b[0m\u001b[0;34m(\u001b[0m\u001b[0mself\u001b[0m\u001b[0;34m)\u001b[0m\u001b[0;34m:\u001b[0m\u001b[0;34m\u001b[0m\u001b[0;34m\u001b[0m\u001b[0m\n",
      "\u001b[0;32m~/anaconda3/envs/tensorflow2_p36/lib/python3.6/site-packages/sagemaker/estimator.py\u001b[0m in \u001b[0;36mwait\u001b[0;34m(self, logs)\u001b[0m\n\u001b[1;32m   1665\u001b[0m         \u001b[0;31m# If logs are requested, call logs_for_jobs.\u001b[0m\u001b[0;34m\u001b[0m\u001b[0;34m\u001b[0m\u001b[0;34m\u001b[0m\u001b[0m\n\u001b[1;32m   1666\u001b[0m         \u001b[0;32mif\u001b[0m \u001b[0mlogs\u001b[0m \u001b[0;34m!=\u001b[0m \u001b[0;34m\"None\"\u001b[0m\u001b[0;34m:\u001b[0m\u001b[0;34m\u001b[0m\u001b[0;34m\u001b[0m\u001b[0m\n\u001b[0;32m-> 1667\u001b[0;31m             \u001b[0mself\u001b[0m\u001b[0;34m.\u001b[0m\u001b[0msagemaker_session\u001b[0m\u001b[0;34m.\u001b[0m\u001b[0mlogs_for_job\u001b[0m\u001b[0;34m(\u001b[0m\u001b[0mself\u001b[0m\u001b[0;34m.\u001b[0m\u001b[0mjob_name\u001b[0m\u001b[0;34m,\u001b[0m \u001b[0mwait\u001b[0m\u001b[0;34m=\u001b[0m\u001b[0;32mTrue\u001b[0m\u001b[0;34m,\u001b[0m \u001b[0mlog_type\u001b[0m\u001b[0;34m=\u001b[0m\u001b[0mlogs\u001b[0m\u001b[0;34m)\u001b[0m\u001b[0;34m\u001b[0m\u001b[0;34m\u001b[0m\u001b[0m\n\u001b[0m\u001b[1;32m   1668\u001b[0m         \u001b[0;32melse\u001b[0m\u001b[0;34m:\u001b[0m\u001b[0;34m\u001b[0m\u001b[0;34m\u001b[0m\u001b[0m\n\u001b[1;32m   1669\u001b[0m             \u001b[0mself\u001b[0m\u001b[0;34m.\u001b[0m\u001b[0msagemaker_session\u001b[0m\u001b[0;34m.\u001b[0m\u001b[0mwait_for_job\u001b[0m\u001b[0;34m(\u001b[0m\u001b[0mself\u001b[0m\u001b[0;34m.\u001b[0m\u001b[0mjob_name\u001b[0m\u001b[0;34m)\u001b[0m\u001b[0;34m\u001b[0m\u001b[0;34m\u001b[0m\u001b[0m\n",
      "\u001b[0;32m~/anaconda3/envs/tensorflow2_p36/lib/python3.6/site-packages/sagemaker/session.py\u001b[0m in \u001b[0;36mlogs_for_job\u001b[0;34m(self, job_name, wait, poll, log_type)\u001b[0m\n\u001b[1;32m   3733\u001b[0m                 \u001b[0;32mbreak\u001b[0m\u001b[0;34m\u001b[0m\u001b[0;34m\u001b[0m\u001b[0m\n\u001b[1;32m   3734\u001b[0m \u001b[0;34m\u001b[0m\u001b[0m\n\u001b[0;32m-> 3735\u001b[0;31m             \u001b[0mtime\u001b[0m\u001b[0;34m.\u001b[0m\u001b[0msleep\u001b[0m\u001b[0;34m(\u001b[0m\u001b[0mpoll\u001b[0m\u001b[0;34m)\u001b[0m\u001b[0;34m\u001b[0m\u001b[0;34m\u001b[0m\u001b[0m\n\u001b[0m\u001b[1;32m   3736\u001b[0m \u001b[0;34m\u001b[0m\u001b[0m\n\u001b[1;32m   3737\u001b[0m             \u001b[0;32mif\u001b[0m \u001b[0mstate\u001b[0m \u001b[0;34m==\u001b[0m \u001b[0mLogState\u001b[0m\u001b[0;34m.\u001b[0m\u001b[0mJOB_COMPLETE\u001b[0m\u001b[0;34m:\u001b[0m\u001b[0;34m\u001b[0m\u001b[0;34m\u001b[0m\u001b[0m\n",
      "\u001b[0;31mKeyboardInterrupt\u001b[0m: "
     ]
    }
   ],
   "source": [
    "tf_estimator.fit({'train': training_data_path})"
   ]
  },
  {
   "cell_type": "code",
   "execution_count": null,
   "id": "3f9f3834",
   "metadata": {},
   "outputs": [],
   "source": []
  }
 ],
 "metadata": {
  "kernelspec": {
   "display_name": "conda_tensorflow2_p36",
   "language": "python",
   "name": "conda_tensorflow2_p36"
  },
  "language_info": {
   "codemirror_mode": {
    "name": "ipython",
    "version": 3
   },
   "file_extension": ".py",
   "mimetype": "text/x-python",
   "name": "python",
   "nbconvert_exporter": "python",
   "pygments_lexer": "ipython3",
   "version": "3.6.13"
  }
 },
 "nbformat": 4,
 "nbformat_minor": 5
}
